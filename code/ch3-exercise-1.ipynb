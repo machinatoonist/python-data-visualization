{
 "cells": [
  {
   "cell_type": "markdown",
   "id": "e2b9c37e",
   "metadata": {},
   "source": [
    "### Chapter 3 Matplotlib Data Visualization\n",
    "\n",
    "Exercise 1"
   ]
  },
  {
   "cell_type": "code",
   "execution_count": 1,
   "id": "ea3165e5",
   "metadata": {},
   "outputs": [],
   "source": [
    "from pathlib import Path\n",
    "import pandas as pd\n",
    "import numpy as np\n",
    "import matplotlib.pyplot as plt\n",
    "from matplotlib import ticker"
   ]
  },
  {
   "cell_type": "code",
   "execution_count": 2,
   "id": "25881bd8-3b73-4152-83af-8aaf12bc6f34",
   "metadata": {},
   "outputs": [
    {
     "data": {
      "text/plain": [
       "PosixPath('/home/mrosinski/git/python-data-visualization/code')"
      ]
     },
     "execution_count": 2,
     "metadata": {},
     "output_type": "execute_result"
    }
   ],
   "source": [
    "Path.cwd()"
   ]
  },
  {
   "cell_type": "code",
   "execution_count": 2,
   "id": "e0c6ce4f",
   "metadata": {},
   "outputs": [],
   "source": [
    "src_file = Path.cwd() / 'data' / 'raw' / 'EPA_fuel_economy.csv'\n",
    "image_dir = Path.cwd() / 'images'"
   ]
  },
  {
   "cell_type": "code",
   "execution_count": 3,
   "id": "4646e208",
   "metadata": {},
   "outputs": [],
   "source": [
    "df = pd.read_csv(src_file)"
   ]
  },
  {
   "cell_type": "code",
   "execution_count": 4,
   "id": "f5a62a92",
   "metadata": {},
   "outputs": [
    {
     "data": {
      "text/html": [
       "<div>\n",
       "<style scoped>\n",
       "    .dataframe tbody tr th:only-of-type {\n",
       "        vertical-align: middle;\n",
       "    }\n",
       "\n",
       "    .dataframe tbody tr th {\n",
       "        vertical-align: top;\n",
       "    }\n",
       "\n",
       "    .dataframe thead th {\n",
       "        text-align: right;\n",
       "    }\n",
       "</style>\n",
       "<table border=\"1\" class=\"dataframe\">\n",
       "  <thead>\n",
       "    <tr style=\"text-align: right;\">\n",
       "      <th></th>\n",
       "      <th>make</th>\n",
       "      <th>model</th>\n",
       "      <th>year</th>\n",
       "      <th>cylinders</th>\n",
       "      <th>trany</th>\n",
       "      <th>displ</th>\n",
       "      <th>VClass</th>\n",
       "      <th>co2</th>\n",
       "      <th>barrels08</th>\n",
       "      <th>fuelCost08</th>\n",
       "      <th>fuelType</th>\n",
       "      <th>highway08</th>\n",
       "      <th>city08</th>\n",
       "      <th>comb08</th>\n",
       "    </tr>\n",
       "  </thead>\n",
       "  <tbody>\n",
       "    <tr>\n",
       "      <th>0</th>\n",
       "      <td>Acura</td>\n",
       "      <td>NSX</td>\n",
       "      <td>2000</td>\n",
       "      <td>6.0</td>\n",
       "      <td>Automatic 4-spd</td>\n",
       "      <td>3.0</td>\n",
       "      <td>Two Seaters</td>\n",
       "      <td>-1</td>\n",
       "      <td>18.311667</td>\n",
       "      <td>2600</td>\n",
       "      <td>Premium</td>\n",
       "      <td>22</td>\n",
       "      <td>15</td>\n",
       "      <td>18</td>\n",
       "    </tr>\n",
       "    <tr>\n",
       "      <th>1</th>\n",
       "      <td>Acura</td>\n",
       "      <td>NSX</td>\n",
       "      <td>2000</td>\n",
       "      <td>6.0</td>\n",
       "      <td>Manual 6-spd</td>\n",
       "      <td>3.2</td>\n",
       "      <td>Two Seaters</td>\n",
       "      <td>-1</td>\n",
       "      <td>18.311667</td>\n",
       "      <td>2600</td>\n",
       "      <td>Premium</td>\n",
       "      <td>22</td>\n",
       "      <td>15</td>\n",
       "      <td>18</td>\n",
       "    </tr>\n",
       "    <tr>\n",
       "      <th>2</th>\n",
       "      <td>BMW</td>\n",
       "      <td>M Coupe</td>\n",
       "      <td>2000</td>\n",
       "      <td>6.0</td>\n",
       "      <td>Manual 5-spd</td>\n",
       "      <td>3.2</td>\n",
       "      <td>Two Seaters</td>\n",
       "      <td>-1</td>\n",
       "      <td>17.347895</td>\n",
       "      <td>2500</td>\n",
       "      <td>Premium</td>\n",
       "      <td>23</td>\n",
       "      <td>17</td>\n",
       "      <td>19</td>\n",
       "    </tr>\n",
       "    <tr>\n",
       "      <th>3</th>\n",
       "      <td>BMW</td>\n",
       "      <td>Z3 Coupe</td>\n",
       "      <td>2000</td>\n",
       "      <td>6.0</td>\n",
       "      <td>Automatic 4-spd</td>\n",
       "      <td>2.8</td>\n",
       "      <td>Two Seaters</td>\n",
       "      <td>-1</td>\n",
       "      <td>17.347895</td>\n",
       "      <td>2500</td>\n",
       "      <td>Premium</td>\n",
       "      <td>24</td>\n",
       "      <td>17</td>\n",
       "      <td>19</td>\n",
       "    </tr>\n",
       "    <tr>\n",
       "      <th>4</th>\n",
       "      <td>BMW</td>\n",
       "      <td>Z3 Coupe</td>\n",
       "      <td>2000</td>\n",
       "      <td>6.0</td>\n",
       "      <td>Manual 5-spd</td>\n",
       "      <td>2.8</td>\n",
       "      <td>Two Seaters</td>\n",
       "      <td>-1</td>\n",
       "      <td>17.347895</td>\n",
       "      <td>2500</td>\n",
       "      <td>Premium</td>\n",
       "      <td>24</td>\n",
       "      <td>17</td>\n",
       "      <td>19</td>\n",
       "    </tr>\n",
       "  </tbody>\n",
       "</table>\n",
       "</div>"
      ],
      "text/plain": [
       "    make     model  year  cylinders            trany  displ       VClass  co2  \\\n",
       "0  Acura       NSX  2000        6.0  Automatic 4-spd    3.0  Two Seaters   -1   \n",
       "1  Acura       NSX  2000        6.0     Manual 6-spd    3.2  Two Seaters   -1   \n",
       "2    BMW   M Coupe  2000        6.0     Manual 5-spd    3.2  Two Seaters   -1   \n",
       "3    BMW  Z3 Coupe  2000        6.0  Automatic 4-spd    2.8  Two Seaters   -1   \n",
       "4    BMW  Z3 Coupe  2000        6.0     Manual 5-spd    2.8  Two Seaters   -1   \n",
       "\n",
       "   barrels08  fuelCost08 fuelType  highway08  city08  comb08  \n",
       "0  18.311667        2600  Premium         22      15      18  \n",
       "1  18.311667        2600  Premium         22      15      18  \n",
       "2  17.347895        2500  Premium         23      17      19  \n",
       "3  17.347895        2500  Premium         24      17      19  \n",
       "4  17.347895        2500  Premium         24      17      19  "
      ]
     },
     "execution_count": 4,
     "metadata": {},
     "output_type": "execute_result"
    }
   ],
   "source": [
    "df.head()"
   ]
  },
  {
   "cell_type": "code",
   "execution_count": 5,
   "id": "d82adcd8",
   "metadata": {},
   "outputs": [
    {
     "name": "stdout",
     "output_type": "stream",
     "text": [
      "<class 'pandas.core.frame.DataFrame'>\n",
      "RangeIndex: 24210 entries, 0 to 24209\n",
      "Data columns (total 14 columns):\n",
      " #   Column      Non-Null Count  Dtype  \n",
      "---  ------      --------------  -----  \n",
      " 0   make        24210 non-null  object \n",
      " 1   model       24210 non-null  object \n",
      " 2   year        24210 non-null  int64  \n",
      " 3   cylinders   23979 non-null  float64\n",
      " 4   trany       24201 non-null  object \n",
      " 5   displ       23980 non-null  float64\n",
      " 6   VClass      24210 non-null  object \n",
      " 7   co2         24210 non-null  int64  \n",
      " 8   barrels08   24210 non-null  float64\n",
      " 9   fuelCost08  24210 non-null  int64  \n",
      " 10  fuelType    24210 non-null  object \n",
      " 11  highway08   24210 non-null  int64  \n",
      " 12  city08      24210 non-null  int64  \n",
      " 13  comb08      24210 non-null  int64  \n",
      "dtypes: float64(3), int64(6), object(5)\n",
      "memory usage: 2.6+ MB\n"
     ]
    }
   ],
   "source": [
    "df.info()"
   ]
  },
  {
   "cell_type": "code",
   "execution_count": 6,
   "id": "4325987b",
   "metadata": {},
   "outputs": [],
   "source": [
    "%matplotlib inline"
   ]
  },
  {
   "cell_type": "markdown",
   "id": "5edd1ee3",
   "metadata": {},
   "source": [
    "# State based interface (using pyplot)\n",
    "Not recommended"
   ]
  },
  {
   "cell_type": "code",
   "execution_count": 7,
   "id": "5780a65b",
   "metadata": {},
   "outputs": [
    {
     "data": {
      "text/plain": [
       "(array([1.4507e+04, 9.0160e+03, 3.8900e+02, 7.2000e+01, 1.8000e+01,\n",
       "        2.5000e+01, 5.1000e+01, 8.0000e+01, 4.1000e+01, 1.1000e+01]),\n",
       " array([  8. ,  21.3,  34.6,  47.9,  61.2,  74.5,  87.8, 101.1, 114.4,\n",
       "        127.7, 141. ]),\n",
       " <BarContainer object of 10 artists>)"
      ]
     },
     "execution_count": 7,
     "metadata": {},
     "output_type": "execute_result"
    },
    {
     "data": {
      "image/png": "[encoded data removed]",
      "text/plain": [
       "<Figure size 432x288 with 1 Axes>"
      ]
     },
     "metadata": {
      "needs_background": "light"
     },
     "output_type": "display_data"
    }
   ],
   "source": [
    "plt.hist(df['comb08'])"
   ]
  },
  {
   "cell_type": "code",
   "execution_count": 8,
   "id": "55ae81e7",
   "metadata": {},
   "outputs": [
    {
     "data": {
      "image/png": "[encoded data removed]",
      "text/plain": [
       "<Figure size 432x288 with 1 Axes>"
      ]
     },
     "metadata": {
      "needs_background": "light"
     },
     "output_type": "display_data"
    }
   ],
   "source": [
    "plt.hist(df['comb08']);"
   ]
  },
  {
   "cell_type": "code",
   "execution_count": 9,
   "id": "affb8a38",
   "metadata": {},
   "outputs": [
    {
     "data": {
      "image/png": "[encoded data removed]",
      "text/plain": [
       "<Figure size 432x288 with 1 Axes>"
      ]
     },
     "metadata": {
      "needs_background": "light"
     },
     "output_type": "display_data"
    }
   ],
   "source": [
    "plt.hist(df['comb08'])\n",
    "plt.xlabel('Combined Fuel Economy (MPG)')\n",
    "plt.ylabel('Number of cars')\n",
    "plt.title('Combined Fuel Economy (2000-2020)')\n",
    "plt.show()"
   ]
  },
  {
   "cell_type": "markdown",
   "id": "f33e40d3",
   "metadata": {},
   "source": [
    "# Object Oriented API\n",
    "Recommended"
   ]
  },
  {
   "cell_type": "code",
   "execution_count": 10,
   "id": "0632e566",
   "metadata": {},
   "outputs": [
    {
     "data": {
      "image/png": "[encoded data removed]",
      "text/plain": [
       "<Figure size 432x288 with 1 Axes>"
      ]
     },
     "metadata": {
      "needs_background": "light"
     },
     "output_type": "display_data"
    }
   ],
   "source": [
    "fig, ax = plt.subplots()\n",
    "ax.hist(df['comb08']);    "
   ]
  },
  {
   "cell_type": "code",
   "execution_count": 11,
   "id": "47e005c7",
   "metadata": {},
   "outputs": [],
   "source": [
    "# %matplotlib notebook"
   ]
  },
  {
   "cell_type": "code",
   "execution_count": 12,
   "id": "35ba2f16",
   "metadata": {},
   "outputs": [
    {
     "data": {
      "text/plain": [
       "Text(0.5, 1.0, 'Combined Fuel Economy (2000-2020)')"
      ]
     },
     "execution_count": 12,
     "metadata": {},
     "output_type": "execute_result"
    },
    {
     "data": {
      "image/png": "[encoded data removed]",
      "text/plain": [
       "<Figure size 432x288 with 1 Axes>"
      ]
     },
     "metadata": {
      "needs_background": "light"
     },
     "output_type": "display_data"
    }
   ],
   "source": [
    "fig, ax = plt.subplots()\n",
    "ax.hist(df['comb08'])\n",
    "ax.set_xlabel('Combined Fuel Economy (MPG)')\n",
    "ax.set_ylabel('Number of cars')\n",
    "ax.set_title('Combined Fuel Economy (2000-2020)')\n",
    "#fig.show()"
   ]
  },
  {
   "cell_type": "code",
   "execution_count": 13,
   "id": "355b25ca",
   "metadata": {},
   "outputs": [],
   "source": [
    "%matplotlib inline"
   ]
  },
  {
   "cell_type": "code",
   "execution_count": 14,
   "id": "b7a6cfe6",
   "metadata": {},
   "outputs": [
    {
     "data": {
      "image/png": "[encoded data removed]",
      "text/plain": [
       "<Figure size 432x288 with 1 Axes>"
      ]
     },
     "metadata": {
      "needs_background": "light"
     },
     "output_type": "display_data"
    }
   ],
   "source": [
    "fig, ax = plt.subplots()\n",
    "ax.hist(df['comb08'])\n",
    "ax.set(xlabel='Combined Fuel Economy (MPG)',\n",
    "       ylabel='Number of cars',\n",
    "       title='Combined Fuel Economy (2000-2020)');\n"
   ]
  },
  {
   "cell_type": "code",
   "execution_count": 15,
   "id": "0ac8bd04",
   "metadata": {},
   "outputs": [
    {
     "data": {
      "image/png": "[encoded data removed]",
      "text/plain": [
       "<Figure size 432x288 with 1 Axes>"
      ]
     },
     "metadata": {
      "needs_background": "light"
     },
     "output_type": "display_data"
    }
   ],
   "source": [
    "fig, ax = plt.subplots()\n",
    "ax.hist(df['comb08'], range=(10,50));"
   ]
  },
  {
   "cell_type": "code",
   "execution_count": 16,
   "id": "d93c4a3f",
   "metadata": {},
   "outputs": [
    {
     "data": {
      "image/png": "[encoded data removed]",
      "text/plain": [
       "<Figure size 432x288 with 1 Axes>"
      ]
     },
     "metadata": {
      "needs_background": "light"
     },
     "output_type": "display_data"
    }
   ],
   "source": [
    "fig, ax = plt.subplots()\n",
    "ax.hist(df['comb08'], range=(10,50), cumulative=True);"
   ]
  },
  {
   "cell_type": "code",
   "execution_count": 17,
   "id": "25a8521e",
   "metadata": {},
   "outputs": [
    {
     "data": {
      "image/png": "[encoded data removed]",
      "text/plain": [
       "<Figure size 432x288 with 1 Axes>"
      ]
     },
     "metadata": {
      "needs_background": "light"
     },
     "output_type": "display_data"
    }
   ],
   "source": [
    "fig, ax = plt.subplots()\n",
    "ax.hist(df['comb08'], range=(10,50), histtype='step', orientation='horizontal');"
   ]
  },
  {
   "cell_type": "code",
   "execution_count": 18,
   "id": "2a802ba4",
   "metadata": {},
   "outputs": [
    {
     "data": {
      "image/png": "[encoded data removed]",
      "text/plain": [
       "<Figure size 432x288 with 1 Axes>"
      ]
     },
     "metadata": {
      "needs_background": "light"
     },
     "output_type": "display_data"
    }
   ],
   "source": [
    "fig, ax = plt.subplots()\n",
    "ax.hist(df['comb08'], range=(10,50), bins=5);"
   ]
  },
  {
   "cell_type": "code",
   "execution_count": 19,
   "id": "a9708fed",
   "metadata": {},
   "outputs": [
    {
     "data": {
      "image/png": "[encoded data removed]",
      "text/plain": [
       "<Figure size 432x288 with 1 Axes>"
      ]
     },
     "metadata": {
      "needs_background": "light"
     },
     "output_type": "display_data"
    }
   ],
   "source": [
    "fig, ax = plt.subplots()\n",
    "ax.hist(df['comb08'], range=(10,50), bins=100);"
   ]
  },
  {
   "cell_type": "code",
   "execution_count": 20,
   "id": "6fd2b3ea",
   "metadata": {},
   "outputs": [
    {
     "data": {
      "image/png": "[encoded data removed]",
      "text/plain": [
       "<Figure size 432x288 with 1 Axes>"
      ]
     },
     "metadata": {
      "needs_background": "light"
     },
     "output_type": "display_data"
    }
   ],
   "source": [
    "fig, ax = plt.subplots()\n",
    "n, bins, patches = ax.hist(df['comb08'], range=(10,50));"
   ]
  },
  {
   "cell_type": "code",
   "execution_count": 21,
   "id": "ce5e8979",
   "metadata": {},
   "outputs": [
    {
     "data": {
      "text/plain": [
       "array([ 860., 5291., 8347., 5322., 2541., 1038.,  275.,  142.,   55.,\n",
       "         62.])"
      ]
     },
     "execution_count": 21,
     "metadata": {},
     "output_type": "execute_result"
    }
   ],
   "source": [
    "n"
   ]
  },
  {
   "cell_type": "code",
   "execution_count": 22,
   "id": "fe4d3caf",
   "metadata": {},
   "outputs": [
    {
     "data": {
      "text/plain": [
       "array([10., 14., 18., 22., 26., 30., 34., 38., 42., 46., 50.])"
      ]
     },
     "execution_count": 22,
     "metadata": {},
     "output_type": "execute_result"
    }
   ],
   "source": [
    "bins"
   ]
  },
  {
   "cell_type": "code",
   "execution_count": 23,
   "id": "6aaf50ef",
   "metadata": {},
   "outputs": [
    {
     "data": {
      "text/plain": [
       "<BarContainer object of 10 artists>"
      ]
     },
     "execution_count": 23,
     "metadata": {},
     "output_type": "execute_result"
    }
   ],
   "source": [
    "patches"
   ]
  },
  {
   "cell_type": "markdown",
   "id": "3fef71d6",
   "metadata": {},
   "source": [
    "## Working with Figures and Axes"
   ]
  },
  {
   "cell_type": "code",
   "execution_count": 24,
   "id": "9f14e0a0",
   "metadata": {},
   "outputs": [
    {
     "data": {
      "image/png": "[encoded data removed]",
      "text/plain": [
       "<Figure size 432x288 with 2 Axes>"
      ]
     },
     "metadata": {
      "needs_background": "light"
     },
     "output_type": "display_data"
    }
   ],
   "source": [
    "fig, ax = plt.subplots(2)\n",
    "ax[0].hist(df['comb08'], range=(10,50))\n",
    "ax[1].hist(df['comb08'], range=(10,100));"
   ]
  },
  {
   "cell_type": "code",
   "execution_count": 25,
   "id": "9259cc55",
   "metadata": {},
   "outputs": [
    {
     "data": {
      "text/plain": [
       "numpy.ndarray"
      ]
     },
     "execution_count": 25,
     "metadata": {},
     "output_type": "execute_result"
    }
   ],
   "source": [
    "type(ax)"
   ]
  },
  {
   "cell_type": "code",
   "execution_count": 26,
   "id": "e167065a",
   "metadata": {},
   "outputs": [
    {
     "data": {
      "image/png": "[encoded data removed]",
      "text/plain": [
       "<Figure size 432x288 with 2 Axes>"
      ]
     },
     "metadata": {
      "needs_background": "light"
     },
     "output_type": "display_data"
    }
   ],
   "source": [
    "fig, (ax1, ax2) = plt.subplots(2)\n",
    "ax1.hist(df['comb08'], range=(10,50))\n",
    "ax2.hist(df['comb08'], range=(10,100));"
   ]
  },
  {
   "cell_type": "code",
   "execution_count": 27,
   "id": "e5990b9d",
   "metadata": {},
   "outputs": [
    {
     "data": {
      "image/png": "[encoded data removed]",
      "text/plain": [
       "<Figure size 432x288 with 1 Axes>"
      ]
     },
     "metadata": {
      "needs_background": "light"
     },
     "output_type": "display_data"
    }
   ],
   "source": [
    "fig, ax = plt.subplots()\n",
    "ax.boxplot(df['comb08'], labels=['All'])\n",
    "ax.set(title='MPG Distribution', ylabel='MPG for vehicles');"
   ]
  },
  {
   "cell_type": "code",
   "execution_count": 28,
   "id": "2b9918e0",
   "metadata": {},
   "outputs": [
    {
     "data": {
      "image/png": "[encoded data removed]",
      "text/plain": [
       "<Figure size 432x288 with 1 Axes>"
      ]
     },
     "metadata": {
      "needs_background": "light"
     },
     "output_type": "display_data"
    }
   ],
   "source": [
    "fig, ax = plt.subplots()\n",
    "ax.boxplot(df['comb08'], labels=['All'], showfliers=False)\n",
    "ax.set(title='MPG Distribution', ylabel='MPG for vehicles');"
   ]
  },
  {
   "cell_type": "code",
   "execution_count": 29,
   "id": "0906fbf1",
   "metadata": {},
   "outputs": [
    {
     "data": {
      "image/png": "[encoded data removed]",
      "text/plain": [
       "<Figure size 432x288 with 2 Axes>"
      ]
     },
     "metadata": {
      "needs_background": "light"
     },
     "output_type": "display_data"
    }
   ],
   "source": [
    "fig, (ax1, ax2) = plt.subplots(2)\n",
    "ax1.hist(df['comb08'], range=(10,50))\n",
    "ax1.set(title='Vehicle MPG', xlabel='Combined MPG', ylabel='Number of Cars')\n",
    "\n",
    "ax2.boxplot(df['comb08'], labels=['All'], vert=False, showfliers=False)\n",
    "ax2.set(ylabel='MPG for vehicles');"
   ]
  },
  {
   "cell_type": "code",
   "execution_count": 30,
   "id": "55613cde",
   "metadata": {},
   "outputs": [
    {
     "data": {
      "image/png": "[encoded data removed]",
      "text/plain": [
       "<Figure size 432x288 with 2 Axes>"
      ]
     },
     "metadata": {
      "needs_background": "light"
     },
     "output_type": "display_data"
    }
   ],
   "source": [
    "fig, (ax1, ax2) = plt.subplots(2)\n",
    "ax1.hist(df['comb08'], range=(10,50))\n",
    "ax1.set(title='Vehicle MPG', xlabel='Combined MPG', ylabel='Number of Cars')\n",
    "\n",
    "ax2.boxplot(df['comb08'], labels=['All'], vert=False, showfliers=False)\n",
    "ax2.set(ylabel='MPG for vehicles')\n",
    "\n",
    "fig.suptitle('MPG Distribution', fontsize=14, fontweight='bold');"
   ]
  },
  {
   "cell_type": "code",
   "execution_count": 31,
   "id": "ce09534b",
   "metadata": {},
   "outputs": [
    {
     "data": {
      "image/png": "[encoded data removed]",
      "text/plain": [
       "<Figure size 648x288 with 2 Axes>"
      ]
     },
     "metadata": {
      "needs_background": "light"
     },
     "output_type": "display_data"
    }
   ],
   "source": [
    "fig, (ax1, ax2) = plt.subplots(nrows=1, ncols=2, figsize=(9,4))\n",
    "ax1.hist(df['comb08'], range=(10,50))\n",
    "ax1.set(title='Vehicle MPG', xlabel='Combined MPG', ylabel='Number of Cars')\n",
    "\n",
    "ax2.boxplot(df['comb08'], labels=['All'], showfliers=False)\n",
    "ax2.set(ylabel='MPG for vehicles')\n",
    "fig.suptitle('MPG Distribution', fontsize=14, fontweight='bold');"
   ]
  },
  {
   "cell_type": "code",
   "execution_count": 32,
   "id": "8e61e182",
   "metadata": {},
   "outputs": [],
   "source": [
    "fig.savefig(image_dir/'mpg_distribution.png', transparent=True, dpi=80, bbox_inches=\"tight\")"
   ]
  },
  {
   "cell_type": "code",
   "execution_count": 33,
   "id": "fb3847eb",
   "metadata": {},
   "outputs": [],
   "source": [
    "fig.savefig(image_dir/'mpg_distribution.svg', transparent=False, dpi=200, bbox_inches=\"tight\")"
   ]
  },
  {
   "cell_type": "code",
   "execution_count": 34,
   "id": "7798e9bd",
   "metadata": {},
   "outputs": [],
   "source": [
    "fig.savefig(image_dir/'mpg_distribution.jpg', transparent=False, dpi=200, bbox_inches=\"tight\")"
   ]
  },
  {
   "cell_type": "code",
   "execution_count": 35,
   "id": "797dcb2c",
   "metadata": {},
   "outputs": [],
   "source": [
    "fig.savefig(image_dir/'mpg_distribution.pdf', transparent=False, dpi=200, bbox_inches=\"tight\")"
   ]
  },
  {
   "cell_type": "code",
   "execution_count": 36,
   "id": "2d341278",
   "metadata": {},
   "outputs": [
    {
     "data": {
      "text/plain": [
       "{'eps': 'Encapsulated Postscript',\n",
       " 'jpg': 'Joint Photographic Experts Group',\n",
       " 'jpeg': 'Joint Photographic Experts Group',\n",
       " 'pdf': 'Portable Document Format',\n",
       " 'pgf': 'PGF code for LaTeX',\n",
       " 'png': 'Portable Network Graphics',\n",
       " 'ps': 'Postscript',\n",
       " 'raw': 'Raw RGBA bitmap',\n",
       " 'rgba': 'Raw RGBA bitmap',\n",
       " 'svg': 'Scalable Vector Graphics',\n",
       " 'svgz': 'Scalable Vector Graphics',\n",
       " 'tif': 'Tagged Image File Format',\n",
       " 'tiff': 'Tagged Image File Format'}"
      ]
     },
     "execution_count": 36,
     "metadata": {},
     "output_type": "execute_result"
    }
   ],
   "source": [
    "fig.canvas.get_supported_filetypes()"
   ]
  },
  {
   "cell_type": "code",
   "execution_count": null,
   "id": "ee368527",
   "metadata": {},
   "outputs": [],
   "source": []
  }
 ],
 "metadata": {
  "kernelspec": {
   "display_name": "Python 3 (ipykernel)",
   "language": "python",
   "name": "python3"
  },
  "language_info": {
   "codemirror_mode": {
    "name": "ipython",
    "version": 3
   },
   "file_extension": ".py",
   "mimetype": "text/x-python",
   "name": "python",
   "nbconvert_exporter": "python",
   "pygments_lexer": "ipython3",
   "version": "3.10.8"
  }
 },
 "nbformat": 4,
 "nbformat_minor": 5
}
